{
 "cells": [
  {
   "cell_type": "markdown",
   "metadata": {},
   "source": [
    "# DS 450 HW 3: Use PySpark Machine Learning to Predict Tip Amounts"
   ]
  },
  {
   "cell_type": "markdown",
   "metadata": {},
   "source": [
    "----\n",
    "## Setup and configuration\n",
    "\n",
    "#### See `ds_450_hw2_larson_spark_setup.txt` for:\n",
    "#### 1. gcloud commands to to create cluster and establish SSH tunnel\n",
    "#### 2. terminal commands to open browser and connect via SOCKS proxy\n",
    "\n",
    "##### Note: to look at contents of root folder with command line, must first execute: sudo su"
   ]
  },
  {
   "cell_type": "code",
   "execution_count": 2,
   "metadata": {},
   "outputs": [
    {
     "name": "stdout",
     "output_type": "stream",
     "text": [
      "Variable        Type        Data/Info\n",
      "-------------------------------------\n",
      "trim_timezone   function    <function trim_timezone at 0x7f5f8c87b8c0>\n"
     ]
    }
   ],
   "source": [
    "whos"
   ]
  },
  {
   "cell_type": "code",
   "execution_count": 3,
   "metadata": {},
   "outputs": [
    {
     "name": "stdout",
     "output_type": "stream",
     "text": [
      "/root/notebooks\n",
      "total 1124\n",
      "drwxr-xr-x 3 root root   4096 Aug 22 20:51 .\n",
      "drwx------ 9 root root   4096 Aug 21 22:35 ..\n",
      "-rw-r--r-- 1 root root 792816 Aug 21 22:33 ds_450_hw_1_larson.ipynb\n",
      "-rw-r--r-- 1 root root  20106 Aug 21 22:33 ds_450_hw_2_larson_taxi_data.ipynb\n",
      "-rw-r--r-- 1 root root  39565 Aug 22 20:50 ds_450_hw_3_larson_predict_taxi_tip.ipynb\n",
      "-rw-r--r-- 1 root root  39565 Aug 22 20:50 ds_450_hw_3_larson_predict_taxi_tip_verbose_2.ipynb\n",
      "-rw-r--r-- 1 root root 124488 Aug 21 22:33 ds_450_hw_3_larson_predict_taxi_tip_verbose.ipynb\n",
      "drwxr-xr-x 2 root root   4096 Aug 22 20:51 .ipynb_checkpoints\n",
      "-rw-r--r-- 1 root root 111661 Aug 21 22:33 pyspark-taxi.ipynb\n"
     ]
    }
   ],
   "source": [
    "!pwd\n",
    "!ls -al"
   ]
  },
  {
   "cell_type": "markdown",
   "metadata": {},
   "source": [
    "\n",
    "#### Install necessary google cloud tools"
   ]
  },
  {
   "cell_type": "code",
   "execution_count": null,
   "metadata": {
    "collapsed": true
   },
   "outputs": [],
   "source": [
    "!pip install google-compute-engine"
   ]
  },
  {
   "cell_type": "markdown",
   "metadata": {},
   "source": [
    "#### Install python dependencies\n",
    "\n",
    "Note: it's possibly to customize the initialization script to install dependencies automatically.\n",
    "    "
   ]
  },
  {
   "cell_type": "code",
   "execution_count": null,
   "metadata": {
    "collapsed": true
   },
   "outputs": [],
   "source": [
    "!pip install pandas numpy matplotlib seaborn"
   ]
  },
  {
   "cell_type": "markdown",
   "metadata": {},
   "source": [
    "----\n",
    "## Load Libraries and Housekeeping"
   ]
  },
  {
   "cell_type": "code",
   "execution_count": 113,
   "metadata": {
    "collapsed": true
   },
   "outputs": [],
   "source": [
    "import pyspark\n",
    "from pyspark import ml\n",
    "# Library for talking to the vector column\n",
    "from pyspark.ml.linalg import Vectors\n",
    "# Library for transforming columns into vector columns\n",
    "from pyspark.ml.feature import VectorAssembler\n",
    "# Lots of models available, can find an equivalent for almost anything found in sklearn,\n",
    "# e.g., classification, regression, etc. API is also the same as sklearn so should be\n",
    "# easy to port things over.\n",
    "import pyspark.ml.regression\n",
    "# Library to serialize python functions for use with PySpark data frames\n",
    "from pyspark.sql.functions import udf\n",
    "# For getting a bunch of useful functions, including time-based functions\n",
    "from pyspark.sql.functions import *\n",
    "from pyspark.sql.types import DoubleType\n",
    "from pyspark.ml.evaluation import RegressionEvaluator\n",
    "from IPython.core.interactiveshell import InteractiveShell\n",
    "import matplotlib\n",
    "%matplotlib inline"
   ]
  },
  {
   "cell_type": "code",
   "execution_count": 5,
   "metadata": {
    "collapsed": true
   },
   "outputs": [],
   "source": [
    "# Make Cells show all results\n",
    "InteractiveShell.ast_node_interactivity = \"all\""
   ]
  },
  {
   "cell_type": "markdown",
   "metadata": {},
   "source": [
    "----\n",
    "## Load taxi data"
   ]
  },
  {
   "cell_type": "markdown",
   "metadata": {},
   "source": [
    "### Load data and look at structure"
   ]
  },
  {
   "cell_type": "code",
   "execution_count": 6,
   "metadata": {
    "collapsed": true
   },
   "outputs": [],
   "source": [
    "# Specify GCS resource for a single file\n",
    "storage_url = 'gs://datasci-450-hamburger/taxi/yellow-2015-000000000000.csv'\n",
    "\n",
    "# Read in the data\n",
    "taxi_shard = (spark.read\n",
    "              .format('csv')\n",
    "              .load(storage_url, header=True, inferSchema=True))"
   ]
  },
  {
   "cell_type": "code",
   "execution_count": 7,
   "metadata": {},
   "outputs": [
    {
     "data": {
      "text/plain": [
       "<bound method DataFrame.printSchema of DataFrame[vendor_id: string, pickup_datetime: string, dropoff_datetime: string, pickup_longitude: double, pickup_latitude: double, dropoff_longitude: double, dropoff_latitude: double, rate_code: int, passenger_count: int, trip_distance: double, payment_type: string, fare_amount: double, extra: double, mta_tax: double, imp_surcharge: double, tip_amount: double, tolls_amount: double, total_amount: double, store_and_fwd_flag: string]>"
      ]
     },
     "execution_count": 7,
     "metadata": {},
     "output_type": "execute_result"
    }
   ],
   "source": [
    "# Show the schema (can then use this to specify the schema for the full dataset)\n",
    "taxi_shard.printSchema"
   ]
  },
  {
   "cell_type": "code",
   "execution_count": 8,
   "metadata": {},
   "outputs": [
    {
     "data": {
      "text/plain": [
       "['vendor_id',\n",
       " 'pickup_datetime',\n",
       " 'dropoff_datetime',\n",
       " 'pickup_longitude',\n",
       " 'pickup_latitude',\n",
       " 'dropoff_longitude',\n",
       " 'dropoff_latitude',\n",
       " 'rate_code',\n",
       " 'passenger_count',\n",
       " 'trip_distance',\n",
       " 'payment_type',\n",
       " 'fare_amount',\n",
       " 'extra',\n",
       " 'mta_tax',\n",
       " 'imp_surcharge',\n",
       " 'tip_amount',\n",
       " 'tolls_amount',\n",
       " 'total_amount',\n",
       " 'store_and_fwd_flag']"
      ]
     },
     "execution_count": 8,
     "metadata": {},
     "output_type": "execute_result"
    }
   ],
   "source": [
    "# Specify GCS resource for all files\n",
    "storage_url_all = 'gs://datasci-450-hamburger/taxi/yellow-2015-*.csv'\n",
    "\n",
    "\n",
    "# Read in the data using schema based on shard\n",
    "taxi = (spark.read\n",
    "        .format('csv')\n",
    "        .load(storage_url_all, header=True, schema=taxi_shard.schema))\n",
    "\n",
    "# Look at data structure\n",
    "taxi.columns"
   ]
  },
  {
   "cell_type": "code",
   "execution_count": 9,
   "metadata": {
    "collapsed": true
   },
   "outputs": [],
   "source": [
    "# Sample full data frame to work with for development\n",
    "# Lazy Eval makes this appear to go quickly, but length required for\n",
    "# subsequent count command shows the true computational cost of sampling\n",
    "taxi_sample = taxi.sample(withReplacement=False, fraction=.0001, seed=777)"
   ]
  },
  {
   "cell_type": "code",
   "execution_count": 10,
   "metadata": {},
   "outputs": [
    {
     "data": {
      "text/plain": [
       "77106102"
      ]
     },
     "execution_count": 10,
     "metadata": {},
     "output_type": "execute_result"
    },
    {
     "data": {
      "text/plain": [
       "7775"
      ]
     },
     "execution_count": 10,
     "metadata": {},
     "output_type": "execute_result"
    }
   ],
   "source": [
    "taxi.count()\n",
    "taxi_sample.count()"
   ]
  },
  {
   "cell_type": "code",
   "execution_count": 11,
   "metadata": {},
   "outputs": [
    {
     "name": "stdout",
     "output_type": "stream",
     "text": [
      "Variable      Type         Data/Info\n",
      "------------------------------------\n",
      "taxi          DataFrame    DataFrame[vendor_id: stri<...>ore_and_fwd_flag: string]\n",
      "taxi_sample   DataFrame    DataFrame[vendor_id: stri<...>ore_and_fwd_flag: string]\n",
      "taxi_shard    DataFrame    DataFrame[vendor_id: stri<...>ore_and_fwd_flag: string]\n"
     ]
    }
   ],
   "source": [
    "whos DataFrame"
   ]
  },
  {
   "cell_type": "markdown",
   "metadata": {},
   "source": [
    "----\n",
    "## Declare functions"
   ]
  },
  {
   "cell_type": "markdown",
   "metadata": {},
   "source": [
    "### Feature creation"
   ]
  },
  {
   "cell_type": "markdown",
   "metadata": {},
   "source": [
    "#### Time-related features"
   ]
  },
  {
   "cell_type": "code",
   "execution_count": 72,
   "metadata": {
    "collapsed": true
   },
   "outputs": [],
   "source": [
    "# Function to create features from time variables (taken from class example)\n",
    "def trim_timezone(t):\n",
    "    # String to show the action taken by the function\n",
    "    \"\"\"'2015-03-04 09:10:47 UTC' => '2015-03-04 09:10:47'\"\"\"\n",
    "    # try-except structure used to avoid problems arising from what may be a small fraction of the\n",
    "    # data that don't fit the pattern \n",
    "    try:\n",
    "        day, time, timezone = t.strip().split()\n",
    "        return ' '.join([day, time])\n",
    "    except Exception as e:\n",
    "        # Return fixed value that can be used for filtering later\n",
    "        return 'cast_fail'\n",
    "    \n",
    "# Convert standard py function into a UDF that Spark can package off\n",
    "# to each of the workers (runs in py4j on worker nodes).\n",
    "# --> When is this step necessary? Only when using commands not available in PySpark?\n",
    "trim_timezone_udf=udf(trim_timezone)\n",
    "\n",
    "# The pipeline fixes the pickup column, then adds it, then fixes the dropoff column, then adds it.\n",
    "# Could break thip by replacing the old df after the addition of each column and get the same\n",
    "# effect (see below)\n",
    "def with_typed_columns(df):    \n",
    "    return df.withColumn(\n",
    "        'pickup',\n",
    "        trim_timezone_udf('pickup_datetime').cast('timestamp')\n",
    "    ).withColumn(\n",
    "        'dropoff',\n",
    "        trim_timezone_udf('dropoff_datetime').cast('timestamp')\n",
    "    )\n",
    "\n",
    "# Extract additional features from type-cast time data\n",
    "# Note: time format symbols defined by the SimpleDateFormat class are supported\n",
    "# E == 3-letter day of week; e.g., 'Wed' or 'Tue'\n",
    "def extract_time_features(df) :\n",
    "    df = df.withColumn('pickup_weekofyear', weekofyear('pickup')\n",
    "          ).withColumn('pickup_dayofyear', dayofyear('pickup')\n",
    "          ).withColumn('pickup_weekday', date_format('pickup', 'E')\n",
    "          ).withColumn('pickup_daynum', date_format('pickup', 'u')\n",
    "          ).withColumn('pickup_hour', date_format('pickup', 'k')\n",
    "          ).withColumn('dropoff_weekofyear', weekofyear('dropoff')\n",
    "          ).withColumn('dropoff_dayofyear', dayofyear('dropoff')\n",
    "          ).withColumn('dropoff_weekday', date_format('dropoff', 'E')\n",
    "          ).withColumn('dropoff_daynum', date_format('dropoff', 'u')\n",
    "          ).withColumn('dropoff_hour', date_format('dropoff', 'k'),)\n",
    "    \n",
    "    # Here time features extracted as strings are being recast as double,\n",
    "    # and the new column will replace the old one. If the new coulmn should be\n",
    "    # added with a different name, and the old one preserved, then the first\n",
    "    # argument in the .withColumn method should contain the new column name\n",
    "    return df.withColumn('pickup_daynum', df['pickup_daynum'].cast('double')\n",
    "            ).withColumn('pickup_hour', df['pickup_hour'].cast('double')\n",
    "            ).withColumn('dropoff_daynum', df['dropoff_daynum'].cast('double')\n",
    "            ).withColumn('dropoff_hour', df['dropoff_hour'].cast('double'),)"
   ]
  },
  {
   "cell_type": "markdown",
   "metadata": {},
   "source": [
    "#### Spatial features"
   ]
  },
  {
   "cell_type": "code",
   "execution_count": 13,
   "metadata": {
    "collapsed": true
   },
   "outputs": [],
   "source": [
    "# Make a function that discretizes (e.g., bins) numeric data\n",
    "# NOTE:transforms act like a function insofar as they can be created without input, and used later\n",
    "#       when an input is supplied\n",
    "# NOTE: Many useful transforms available with .feature method, and they can be chained\n",
    "def make_bucketer(input_col, output_col, sample, num_buckets=10):\n",
    "    # Define the hyperparameters of the the discretizer \n",
    "    # --> Why is there a comma following the last argument?\n",
    "    qd = pyspark.ml.feature.QuantileDiscretizer(\n",
    "         numBuckets = num_buckets, \n",
    "         inputCol = input_col, \n",
    "         outputCol = output_col,)\n",
    "    \n",
    "    # Use the previously defined dsicretizer to identify the thresholds based on input data\n",
    "    # NOTE:  bucketer is built for a specific column, and later application requires that this\n",
    "    #        column be present with matching name when transform is applied\n",
    "    bucketer = qd.fit(sample)\n",
    "    \n",
    "    # Return an object that can be used to bin new data with pre-determined thresholds. \n",
    "    return bucketer\n",
    "\n",
    "# Function to apply previously created and stored transforms to new data. \n",
    "def apply_transforms(df, transforms):\n",
    "    for transform_key, transform_op in transforms.iteritems():\n",
    "        print 'Applying transform ', transform_key\n",
    "        # This will add a discretized column to data frame\n",
    "        df = transform_op.transform(df)\n",
    "    return df"
   ]
  },
  {
   "cell_type": "markdown",
   "metadata": {},
   "source": [
    "### Data transformations and model creation and execution"
   ]
  },
  {
   "cell_type": "code",
   "execution_count": 14,
   "metadata": {
    "collapsed": true
   },
   "outputs": [],
   "source": [
    "# Function to take data frame and list of columns as as input\n",
    "# Return transformed data with column of feature vectors and labels \n",
    "def transData (df, feature_cols, label_col) :\n",
    "    # Create the assembler. Features stored as columns will be transformed into a single column\n",
    "    # of feature vectors\n",
    "    assembler = VectorAssembler(inputCols = feature_cols, outputCol='features')\n",
    "    \n",
    "    # Reduce dataframe to desired features, and the label column.\n",
    "    # Transform the reduced data frame using the assembler\n",
    "    df.select(feature_cols + [label_col]).columns\n",
    "    df_xform = assembler.transform(\n",
    "        df.select(feature_cols + [label_col])\n",
    "    )\n",
    "    \n",
    "    # Standardize header of label column, reduce data frame to just label and feature vector columns\n",
    "    # --> Does the model object expect the label and feature vector columns to be in a certain order?\n",
    "    df_for_model = df_xform.withColumnRenamed(label_col, 'label').select('label', 'features')\n",
    "    return df_for_model\n",
    "\n",
    "# Function to create the model object. Takes assembled training data as input, returns a fit to the data\n",
    "def makeModel (df_for_model) :\n",
    "    # Create the linear regression model, limit the number of iterations for the training phase \n",
    "    lr = pyspark.ml.regression.LinearRegression(maxIter=100000)\n",
    "    \n",
    "    # Fit the model to the training data\n",
    "    # --> Does this assume order of input data frame is label, feature vectors?\n",
    "    lrmodel = lr.fit(df_for_model)\n",
    "    return lrmodel\n",
    "\n",
    "# Function to run through the model pipeline with training data and feature set as inputs\n",
    "def modelPipeline (df_train, feature_cols, label_col) :\n",
    "    # Prepare data for modeling\n",
    "    df_xform = transData(df_train, feature_cols, label_col)\n",
    "    # Create linear regression model object\n",
    "    lr_model = makeModel(df_xform)\n",
    "    return lr_model"
   ]
  },
  {
   "cell_type": "markdown",
   "metadata": {},
   "source": [
    "## Run the feature creation pipeline"
   ]
  },
  {
   "cell_type": "markdown",
   "metadata": {},
   "source": [
    "### Split the data"
   ]
  },
  {
   "cell_type": "code",
   "execution_count": 15,
   "metadata": {
    "collapsed": true
   },
   "outputs": [],
   "source": [
    "# Want to split the data first because don't want to re-split the data every time new features are tested\n",
    "taxi_train, taxi_test = taxi.randomSplit([.3, .7])"
   ]
  },
  {
   "cell_type": "code",
   "execution_count": 16,
   "metadata": {},
   "outputs": [
    {
     "data": {
      "text/plain": [
       "23141278"
      ]
     },
     "execution_count": 16,
     "metadata": {},
     "output_type": "execute_result"
    },
    {
     "data": {
      "text/plain": [
       "53964824"
      ]
     },
     "execution_count": 16,
     "metadata": {},
     "output_type": "execute_result"
    }
   ],
   "source": [
    "taxi_train.count()\n",
    "taxi_test.count()"
   ]
  },
  {
   "cell_type": "code",
   "execution_count": 18,
   "metadata": {},
   "outputs": [
    {
     "name": "stdout",
     "output_type": "stream",
     "text": [
      "Variable      Type         Data/Info\n",
      "------------------------------------\n",
      "taxi          DataFrame    DataFrame[vendor_id: stri<...>ore_and_fwd_flag: string]\n",
      "taxi_sample   DataFrame    DataFrame[vendor_id: stri<...>ore_and_fwd_flag: string]\n",
      "taxi_shard    DataFrame    DataFrame[vendor_id: stri<...>ore_and_fwd_flag: string]\n",
      "taxi_test     DataFrame    DataFrame[vendor_id: stri<...>ore_and_fwd_flag: string]\n",
      "taxi_train    DataFrame    DataFrame[vendor_id: stri<...>ore_and_fwd_flag: string]\n"
     ]
    }
   ],
   "source": [
    "whos DataFrame"
   ]
  },
  {
   "cell_type": "markdown",
   "metadata": {},
   "source": [
    "### Time-related features"
   ]
  },
  {
   "cell_type": "code",
   "execution_count": 22,
   "metadata": {},
   "outputs": [
    {
     "data": {
      "text/plain": [
       "['vendor_id',\n",
       " 'pickup_datetime',\n",
       " 'dropoff_datetime',\n",
       " 'pickup_longitude',\n",
       " 'pickup_latitude',\n",
       " 'dropoff_longitude',\n",
       " 'dropoff_latitude',\n",
       " 'rate_code',\n",
       " 'passenger_count',\n",
       " 'trip_distance',\n",
       " 'payment_type',\n",
       " 'fare_amount',\n",
       " 'extra',\n",
       " 'mta_tax',\n",
       " 'imp_surcharge',\n",
       " 'tip_amount',\n",
       " 'tolls_amount',\n",
       " 'total_amount',\n",
       " 'store_and_fwd_flag',\n",
       " 'pickup',\n",
       " 'dropoff']"
      ]
     },
     "execution_count": 22,
     "metadata": {},
     "output_type": "execute_result"
    },
    {
     "name": "stdout",
     "output_type": "stream",
     "text": [
      "+-------------------+-------------------+\n",
      "|             pickup|            dropoff|\n",
      "+-------------------+-------------------+\n",
      "|2015-01-01 00:02:46|2015-01-01 00:04:04|\n",
      "|2015-01-01 00:02:56|2015-01-01 00:07:44|\n",
      "|2015-01-01 00:03:16|2015-01-01 00:05:23|\n",
      "+-------------------+-------------------+\n",
      "only showing top 3 rows\n",
      "\n"
     ]
    }
   ],
   "source": [
    "# Apply function to type-cast raw date/time data (dependency is trim_timezone)\n",
    "taxi_typed = with_typed_columns(taxi_train)\n",
    "taxi_typed.columns\n",
    "# Show an example\n",
    "taxi_typed.select('pickup', 'dropoff').show(3)"
   ]
  },
  {
   "cell_type": "code",
   "execution_count": 73,
   "metadata": {},
   "outputs": [
    {
     "data": {
      "text/plain": [
       "<bound method DataFrame.printSchema of DataFrame[vendor_id: string, pickup_datetime: string, dropoff_datetime: string, pickup_longitude: double, pickup_latitude: double, dropoff_longitude: double, dropoff_latitude: double, rate_code: int, passenger_count: int, trip_distance: double, payment_type: string, fare_amount: double, extra: double, mta_tax: double, imp_surcharge: double, tip_amount: double, tolls_amount: double, total_amount: double, store_and_fwd_flag: string, pickup: timestamp, dropoff: timestamp, pickup_weekofyear: int, pickup_dayofyear: int, pickup_weekday: string, pickup_daynum: double, pickup_hour: double, dropoff_weekofyear: int, dropoff_dayofyear: int, dropoff_weekday: string, dropoff_daynum: double, dropoff_hour: double]>"
      ]
     },
     "execution_count": 73,
     "metadata": {},
     "output_type": "execute_result"
    },
    {
     "name": "stdout",
     "output_type": "stream",
     "text": [
      "+---------------+--------------+------------+\n",
      "|dropoff_weekday|dropoff_daynum|dropoff_hour|\n",
      "+---------------+--------------+------------+\n",
      "|            Thu|           4.0|        24.0|\n",
      "|            Thu|           4.0|        24.0|\n",
      "|            Thu|           4.0|        24.0|\n",
      "+---------------+--------------+------------+\n",
      "only showing top 3 rows\n",
      "\n"
     ]
    }
   ],
   "source": [
    "# Add some additional time features from the type-cast time data\n",
    "taxi_typed = extract_time_features(taxi_typed)\n",
    "\n",
    "# Show results\n",
    "taxi_typed.printSchema\n",
    "taxi_typed.select('dropoff_weekday', 'dropoff_daynum', 'dropoff_hour').show(3)"
   ]
  },
  {
   "cell_type": "markdown",
   "metadata": {},
   "source": [
    "### Spatial features"
   ]
  },
  {
   "cell_type": "code",
   "execution_count": 103,
   "metadata": {},
   "outputs": [
    {
     "data": {
      "text/plain": [
       "{'dropoff_latitude': Bucketizer_42a49699df7da4efdf0e,\n",
       " 'dropoff_longitude': Bucketizer_49028fa6ad9796382947,\n",
       " 'pickup_latitude': Bucketizer_46deae9b05649c67e087,\n",
       " 'pickup_longitude': Bucketizer_49e8af53e0bbcb3ab5a6}"
      ]
     },
     "execution_count": 103,
     "metadata": {},
     "output_type": "execute_result"
    }
   ],
   "source": [
    "# Set up a list of columns for which to create bucketing transforms\n",
    "geo_features = [\n",
    "    'pickup_latitude', 'pickup_longitude', \n",
    "    'dropoff_latitude', 'dropoff_longitude']\n",
    "\n",
    "# Specify number of buckets (Run this once with 20 buckets and once with 10 buckets)\n",
    "NUM_BUCKETS = 20\n",
    "# Initiate dsicretizer storage variable\n",
    "geo_bucketers = {}\n",
    "\n",
    "# Loop over target columns\n",
    "for geo_f in geo_features:\n",
    "    # Apply bucketer function to each column, returning a discretizing object\n",
    "    # NOTE: the '%s_q%d' string specifies the output name for the bucketizer \n",
    "    #       based on function inputs\n",
    "    geo_bucketer = make_bucketer(\n",
    "        geo_f, '%s_q%d' % (geo_f, NUM_BUCKETS), \n",
    "        taxi_sample, \n",
    "        num_buckets=NUM_BUCKETS)\n",
    "    # Store the discretizer in the storage array with column name as key \n",
    "    geo_bucketers[geo_f] = geo_bucketer\n",
    "    \n",
    "# Verify the array of transforms (in this case, bucketers) was populated\n",
    "geo_bucketers"
   ]
  },
  {
   "cell_type": "code",
   "execution_count": 27,
   "metadata": {},
   "outputs": [
    {
     "name": "stdout",
     "output_type": "stream",
     "text": [
      "Applying transform  dropoff_longitude\n",
      "Applying transform  pickup_latitude\n",
      "Applying transform  dropoff_latitude\n",
      "Applying transform  pickup_longitude\n"
     ]
    },
    {
     "data": {
      "text/plain": [
       "['vendor_id',\n",
       " 'pickup_datetime',\n",
       " 'dropoff_datetime',\n",
       " 'pickup_longitude',\n",
       " 'pickup_latitude',\n",
       " 'dropoff_longitude',\n",
       " 'dropoff_latitude',\n",
       " 'rate_code',\n",
       " 'passenger_count',\n",
       " 'trip_distance',\n",
       " 'payment_type',\n",
       " 'fare_amount',\n",
       " 'extra',\n",
       " 'mta_tax',\n",
       " 'imp_surcharge',\n",
       " 'tip_amount',\n",
       " 'tolls_amount',\n",
       " 'total_amount',\n",
       " 'store_and_fwd_flag',\n",
       " 'pickup',\n",
       " 'dropoff',\n",
       " 'pickup_weekofyear',\n",
       " 'pickup_dayofyear',\n",
       " 'pickup_weekday',\n",
       " 'pickup_daynum',\n",
       " 'pickup_hour',\n",
       " 'dropoff_weekofyear',\n",
       " 'dropoff_dayofyear',\n",
       " 'dropoff_weekday',\n",
       " 'dropoff_daynum',\n",
       " 'dropoff_hour',\n",
       " 'dropoff_longitude_q20',\n",
       " 'pickup_latitude_q20',\n",
       " 'dropoff_latitude_q20',\n",
       " 'pickup_longitude_q20']"
      ]
     },
     "execution_count": 27,
     "metadata": {},
     "output_type": "execute_result"
    }
   ],
   "source": [
    "# Apply the series of newly-minted transforms to the data\n",
    "# NOTE: assumes the input data (first argument) has a column header that \n",
    "#       matches the one the bucketer was built for\n",
    "# NOTE: Assumes creation of geobucketers was re-run with new number of buckets\n",
    "taxi_typed_geo = apply_transforms(taxi_typed, geo_bucketers)\n",
    "taxi_typed_geo.columns"
   ]
  },
  {
   "cell_type": "code",
   "execution_count": 32,
   "metadata": {
    "collapsed": true
   },
   "outputs": [],
   "source": [
    "# Get a pandas data frame for plotting\n",
    "pdf = taxi_typed_geo.select('dropoff_longitude_q%d' % NUM_BUCKETS,\n",
    "                            'pickup_latitude_q%d' % NUM_BUCKETS,\n",
    "                            'dropoff_latitude_q%d' % NUM_BUCKETS,\n",
    "                            'pickup_longitude_q%d' % NUM_BUCKETS, \n",
    "                            'tip_amount').limit(100000).toPandas()"
   ]
  },
  {
   "cell_type": "code",
   "execution_count": 33,
   "metadata": {},
   "outputs": [
    {
     "data": {
      "text/plain": [
       "<matplotlib.axes._subplots.AxesSubplot at 0x7f5f78524090>"
      ]
     },
     "execution_count": 33,
     "metadata": {},
     "output_type": "execute_result"
    },
    {
     "data": {
      "image/png": "[encoded data removed]",
      "text/plain": [
       "<matplotlib.figure.Figure at 0x7f5f755bcf10>"
      ]
     },
     "metadata": {},
     "output_type": "display_data"
    }
   ],
   "source": [
    "# Plot the data\n",
    "# Doesn't appear to be much dependence on lat-long with 20 buckets\n",
    "pdf.plot(kind='scatter', \n",
    "         x='dropoff_longitude_q20', y='dropoff_latitude_q20',\n",
    "         c='tip_amount', colormap='jet')"
   ]
  },
  {
   "cell_type": "code",
   "execution_count": 35,
   "metadata": {},
   "outputs": [
    {
     "name": "stdout",
     "output_type": "stream",
     "text": [
      "Applying transform  dropoff_longitude\n",
      "Applying transform  pickup_latitude\n",
      "Applying transform  dropoff_latitude\n",
      "Applying transform  pickup_longitude\n"
     ]
    },
    {
     "data": {
      "text/plain": [
       "['vendor_id',\n",
       " 'pickup_datetime',\n",
       " 'dropoff_datetime',\n",
       " 'pickup_longitude',\n",
       " 'pickup_latitude',\n",
       " 'dropoff_longitude',\n",
       " 'dropoff_latitude',\n",
       " 'rate_code',\n",
       " 'passenger_count',\n",
       " 'trip_distance',\n",
       " 'payment_type',\n",
       " 'fare_amount',\n",
       " 'extra',\n",
       " 'mta_tax',\n",
       " 'imp_surcharge',\n",
       " 'tip_amount',\n",
       " 'tolls_amount',\n",
       " 'total_amount',\n",
       " 'store_and_fwd_flag',\n",
       " 'pickup',\n",
       " 'dropoff',\n",
       " 'pickup_weekofyear',\n",
       " 'pickup_dayofyear',\n",
       " 'pickup_weekday',\n",
       " 'pickup_daynum',\n",
       " 'pickup_hour',\n",
       " 'dropoff_weekofyear',\n",
       " 'dropoff_dayofyear',\n",
       " 'dropoff_weekday',\n",
       " 'dropoff_daynum',\n",
       " 'dropoff_hour',\n",
       " 'dropoff_longitude_q20',\n",
       " 'pickup_latitude_q20',\n",
       " 'dropoff_latitude_q20',\n",
       " 'pickup_longitude_q20',\n",
       " 'dropoff_longitude_q10',\n",
       " 'pickup_latitude_q10',\n",
       " 'dropoff_latitude_q10',\n",
       " 'pickup_longitude_q10']"
      ]
     },
     "execution_count": 35,
     "metadata": {},
     "output_type": "execute_result"
    }
   ],
   "source": [
    "# Add columns with coarser discretization for lat-long\n",
    "taxi_typed_geo = apply_transforms(taxi_typed_geo, geo_bucketers)\n",
    "taxi_typed_geo.columns"
   ]
  },
  {
   "cell_type": "code",
   "execution_count": 36,
   "metadata": {
    "collapsed": true
   },
   "outputs": [],
   "source": [
    "# Get a pandas data frame for plotting\n",
    "pdf = taxi_typed_geo.select('dropoff_longitude_q%d' % NUM_BUCKETS,\n",
    "                            'pickup_latitude_q%d' % NUM_BUCKETS,\n",
    "                            'dropoff_latitude_q%d' % NUM_BUCKETS,\n",
    "                            'pickup_longitude_q%d' % NUM_BUCKETS, \n",
    "                            'tip_amount').limit(100000).toPandas()"
   ]
  },
  {
   "cell_type": "code",
   "execution_count": 37,
   "metadata": {},
   "outputs": [
    {
     "data": {
      "text/plain": [
       "<matplotlib.axes._subplots.AxesSubplot at 0x7f5f785b27d0>"
      ]
     },
     "execution_count": 37,
     "metadata": {},
     "output_type": "execute_result"
    },
    {
     "data": {
      "image/png": "[encoded data removed]",
      "text/plain": [
       "<matplotlib.figure.Figure at 0x7f5f5f0a8210>"
      ]
     },
     "metadata": {},
     "output_type": "display_data"
    }
   ],
   "source": [
    "# Plot the data\n",
    "# pdf.plot(kind='scatter', \n",
    "#          x='dropoff_longitude_q10', y='dropoff_latitude_q10',\n",
    "#          c='tip_amount', colormap='jet')"
   ]
  },
  {
   "cell_type": "markdown",
   "metadata": {},
   "source": [
    "## Run the model pipeline\n",
    "#### Go once through manually to verify operation then automate, so new features can be more easily tested"
   ]
  },
  {
   "cell_type": "markdown",
   "metadata": {},
   "source": [
    "### Transform data for modeling"
   ]
  },
  {
   "cell_type": "code",
   "execution_count": 38,
   "metadata": {},
   "outputs": [
    {
     "name": "stdout",
     "output_type": "stream",
     "text": [
      "Variable         Type         Data/Info\n",
      "---------------------------------------\n",
      "pdf              DataFrame           dropoff_longitude_<...>[100000 rows x 5 columns]\n",
      "taxi             DataFrame    DataFrame[vendor_id: stri<...>ore_and_fwd_flag: string]\n",
      "taxi_sample      DataFrame    DataFrame[vendor_id: stri<...>ore_and_fwd_flag: string]\n",
      "taxi_shard       DataFrame    DataFrame[vendor_id: stri<...>ore_and_fwd_flag: string]\n",
      "taxi_test        DataFrame    DataFrame[vendor_id: stri<...>ore_and_fwd_flag: string]\n",
      "taxi_train       DataFrame    DataFrame[vendor_id: stri<...>ore_and_fwd_flag: string]\n",
      "taxi_typed       DataFrame    DataFrame[vendor_id: stri<...>ng, dropoff_hour: string]\n",
      "taxi_typed_geo   DataFrame    DataFrame[vendor_id: stri<...>up_longitude_q10: double]\n"
     ]
    }
   ],
   "source": [
    "whos DataFrame"
   ]
  },
  {
   "cell_type": "code",
   "execution_count": 39,
   "metadata": {},
   "outputs": [
    {
     "name": "stdout",
     "output_type": "stream",
     "text": [
      "+-----+-------------+\n",
      "|label|     features|\n",
      "+-----+-------------+\n",
      "|  4.0|[1.0,2.7,0.2]|\n",
      "|  0.0|[1.0,5.5,0.9]|\n",
      "|  0.0|[1.0,3.5,0.4]|\n",
      "|  2.0|[1.0,7.7,1.8]|\n",
      "|  0.0|[1.0,2.5,0.0]|\n",
      "+-----+-------------+\n",
      "only showing top 5 rows\n",
      "\n"
     ]
    }
   ],
   "source": [
    "# Create list of columns of interest\n",
    "feature_cols = ['passenger_count', 'fare_amount', 'trip_distance']\n",
    "# Specify the column that you're trying to predict\n",
    "label_col = 'tip_amount'\n",
    "taxi_xform = transData(taxi_typed_geo, feature_cols, label_col)\n",
    "taxi_xform.show(5)"
   ]
  },
  {
   "cell_type": "markdown",
   "metadata": {},
   "source": [
    "### Create Model Object"
   ]
  },
  {
   "cell_type": "code",
   "execution_count": 40,
   "metadata": {},
   "outputs": [
    {
     "data": {
      "text/plain": [
       "LinearRegression_4cdfa0ca978deb0ee760"
      ]
     },
     "execution_count": 40,
     "metadata": {},
     "output_type": "execute_result"
    }
   ],
   "source": [
    "taxi_model = makeModel(taxi_xform)\n",
    "taxi_model"
   ]
  },
  {
   "cell_type": "markdown",
   "metadata": {},
   "source": [
    "### Evaluate performance"
   ]
  },
  {
   "cell_type": "code",
   "execution_count": 42,
   "metadata": {},
   "outputs": [
    {
     "name": "stdout",
     "output_type": "stream",
     "text": [
      "+-------------------+\n",
      "|          residuals|\n",
      "+-------------------+\n",
      "|  2.175627313591211|\n",
      "|-1.8456954266534162|\n",
      "| -1.830464897907254|\n",
      "|0.13755097959244433|\n",
      "| -1.822849628334161|\n",
      "+-------------------+\n",
      "only showing top 5 rows\n",
      "\n"
     ]
    },
    {
     "data": {
      "text/plain": [
       "1.9750778790239565e-07"
      ]
     },
     "execution_count": 42,
     "metadata": {},
     "output_type": "execute_result"
    }
   ],
   "source": [
    "taxi_model.summary.residuals.show(5)\n",
    "taxi_model.summary.r2"
   ]
  },
  {
   "cell_type": "markdown",
   "metadata": {},
   "source": [
    "### Model testing using the model pipeline function"
   ]
  },
  {
   "cell_type": "markdown",
   "metadata": {},
   "source": [
    "#### Base Model"
   ]
  },
  {
   "cell_type": "code",
   "execution_count": 43,
   "metadata": {},
   "outputs": [
    {
     "data": {
      "text/plain": [
       "1.9750778801341795e-07"
      ]
     },
     "execution_count": 43,
     "metadata": {},
     "output_type": "execute_result"
    }
   ],
   "source": [
    "# Specify features of interest\n",
    "feature_cols = ['passenger_count', 'fare_amount', 'trip_distance']\n",
    "# Run the pipeline\n",
    "taxi_model2 = modelPipeline(taxi_typed_geo, feature_cols, 'tip_amount')\n",
    "# Calculate the metric\n",
    "taxi_model2.summary.r2"
   ]
  },
  {
   "cell_type": "markdown",
   "metadata": {},
   "source": [
    "#### Base Model + tips filtered to exlcude zero's and high outliers"
   ]
  },
  {
   "cell_type": "code",
   "execution_count": 80,
   "metadata": {},
   "outputs": [
    {
     "data": {
      "text/plain": [
       "13913186"
      ]
     },
     "execution_count": 80,
     "metadata": {},
     "output_type": "execute_result"
    }
   ],
   "source": [
    "# Filter to 0 < tip amount < 50% of fare amount\n",
    "taxi_typed_geo_filt = taxi_typed_geo.filter(taxi_typed_geo.tip_amount > 0\n",
    "                                   ).filter(taxi_typed_geo.tip_amount < 0.5 * taxi_typed_geo.fare_amount)\n",
    "taxi_typed_geo_filt.count()"
   ]
  },
  {
   "cell_type": "code",
   "execution_count": 82,
   "metadata": {},
   "outputs": [
    {
     "data": {
      "text/plain": [
       "0.7756066490761879"
      ]
     },
     "execution_count": 82,
     "metadata": {},
     "output_type": "execute_result"
    }
   ],
   "source": [
    "# Specify features of interest\n",
    "feature_cols = ['passenger_count', 'fare_amount', 'trip_distance']\n",
    "# Run the pipeline\n",
    "taxi_model2 = modelPipeline(taxi_typed_geo_filt, feature_cols, 'tip_amount')\n",
    "# Calculate the metric\n",
    "taxi_model2.summary.r2\n",
    "\n",
    "# Got a huge Jump in excluding the zeros and outliers! Use this data from this point on."
   ]
  },
  {
   "cell_type": "markdown",
   "metadata": {},
   "source": [
    "#### Base + Fine-grained dropoff spatial features"
   ]
  },
  {
   "cell_type": "code",
   "execution_count": 83,
   "metadata": {},
   "outputs": [
    {
     "data": {
      "text/plain": [
       "0.7757275658591434"
      ]
     },
     "execution_count": 83,
     "metadata": {},
     "output_type": "execute_result"
    }
   ],
   "source": [
    "# Specify features of interest\n",
    "feature_cols = ['passenger_count', 'fare_amount', 'trip_distance',\n",
    "                'dropoff_latitude_q20','dropoff_longitude_q20']\n",
    "# Run the pipeline\n",
    "taxi_model2 = modelPipeline(taxi_typed_geo_filt, feature_cols, 'tip_amount')\n",
    "# Calculate the metric\n",
    "taxi_model2.summary.r2"
   ]
  },
  {
   "cell_type": "markdown",
   "metadata": {},
   "source": [
    "#### Base + coarse-grained dropoff spatial features"
   ]
  },
  {
   "cell_type": "code",
   "execution_count": 84,
   "metadata": {},
   "outputs": [
    {
     "data": {
      "text/plain": [
       "0.7757083139125627"
      ]
     },
     "execution_count": 84,
     "metadata": {},
     "output_type": "execute_result"
    }
   ],
   "source": [
    "# Specify features of interest\n",
    "# feature_cols = ['passenger_count', 'fare_amount', 'trip_distance',\n",
    "#                 'dropoff_latitude_q10','dropoff_longitude_q10']\n",
    "# # Run the pipeline\n",
    "# taxi_model2 = modelPipeline(taxi_typed_geo_filt, feature_cols, 'tip_amount')\n",
    "# # Calculate the metric\n",
    "# taxi_model2.summary.r2"
   ]
  },
  {
   "cell_type": "markdown",
   "metadata": {},
   "source": [
    "#### Base + Fine-grained dropoff time features"
   ]
  },
  {
   "cell_type": "code",
   "execution_count": 85,
   "metadata": {},
   "outputs": [
    {
     "data": {
      "text/plain": [
       "0.7757870082641606"
      ]
     },
     "execution_count": 85,
     "metadata": {},
     "output_type": "execute_result"
    }
   ],
   "source": [
    "# Specify features of interest\n",
    "feature_cols = ['passenger_count', 'fare_amount', 'trip_distance','dropoff_hour']\n",
    "# Run the pipeline\n",
    "taxi_model2 = modelPipeline(taxi_typed_geo_filt, feature_cols, 'tip_amount')\n",
    "# Calculate the metric\n",
    "taxi_model2.summary.r2"
   ]
  },
  {
   "cell_type": "markdown",
   "metadata": {},
   "source": [
    "#### Base + medium-grained dropoff time features"
   ]
  },
  {
   "cell_type": "code",
   "execution_count": 86,
   "metadata": {},
   "outputs": [
    {
     "data": {
      "text/plain": [
       "0.7757703991632623"
      ]
     },
     "execution_count": 86,
     "metadata": {},
     "output_type": "execute_result"
    }
   ],
   "source": [
    "# Specify features of interest\n",
    "feature_cols = ['passenger_count', 'fare_amount', 'trip_distance','dropoff_daynum']\n",
    "# Run the pipeline\n",
    "taxi_model2 = modelPipeline(taxi_typed_geo_filt, feature_cols, 'tip_amount')\n",
    "# Calculate the metric\n",
    "taxi_model2.summary.r2"
   ]
  },
  {
   "cell_type": "markdown",
   "metadata": {},
   "source": [
    "#### Base + coarse-grained dropoff time features"
   ]
  },
  {
   "cell_type": "code",
   "execution_count": 87,
   "metadata": {},
   "outputs": [
    {
     "data": {
      "text/plain": [
       "0.7756268969767282"
      ]
     },
     "execution_count": 87,
     "metadata": {},
     "output_type": "execute_result"
    }
   ],
   "source": [
    "# Specify features of interest\n",
    "feature_cols = ['passenger_count', 'fare_amount', 'trip_distance','dropoff_weekofyear']\n",
    "# Run the pipeline\n",
    "taxi_model2 = modelPipeline(taxi_typed_geo_filt, feature_cols, 'tip_amount')\n",
    "# Calculate the metric\n",
    "taxi_model2.summary.r2"
   ]
  },
  {
   "cell_type": "markdown",
   "metadata": {},
   "source": [
    "#### Base + Fine-grained dropoff spatial + time features"
   ]
  },
  {
   "cell_type": "code",
   "execution_count": 93,
   "metadata": {},
   "outputs": [
    {
     "data": {
      "text/plain": [
       "0.7759129993189513"
      ]
     },
     "execution_count": 93,
     "metadata": {},
     "output_type": "execute_result"
    }
   ],
   "source": [
    "# The more highly resolved features appeared to work the best for both space and time\n",
    "# So combine these here.\n",
    "feature_cols = ['passenger_count', 'fare_amount', 'trip_distance',\n",
    "                'dropoff_hour','dropoff_latitude_q20','dropoff_longitude_q20']\n",
    "# Run the pipeline\n",
    "taxi_model2 = modelPipeline(taxi_typed_geo_filt, feature_cols, 'tip_amount')\n",
    "# Calculate the metric\n",
    "taxi_model2.summary.r2"
   ]
  },
  {
   "cell_type": "markdown",
   "metadata": {},
   "source": [
    "### Generate Predictions on Test Set\n",
    "#### Use the previously identified optimal feature set"
   ]
  },
  {
   "cell_type": "code",
   "execution_count": 99,
   "metadata": {
    "collapsed": true
   },
   "outputs": [],
   "source": [
    "# Add time features for test data\n",
    "taxi_typed_test = with_typed_columns(taxi_test)\n",
    "taxi_typed_test = extract_time_features(taxi_typed_test)"
   ]
  },
  {
   "cell_type": "code",
   "execution_count": 104,
   "metadata": {},
   "outputs": [
    {
     "name": "stdout",
     "output_type": "stream",
     "text": [
      "Applying transform  dropoff_longitude\n",
      "Applying transform  pickup_latitude\n",
      "Applying transform  dropoff_latitude\n",
      "Applying transform  pickup_longitude\n"
     ]
    }
   ],
   "source": [
    "# Add spatial features for the test data\n",
    "taxi_typed_geo_test = apply_transforms(taxi_typed_test, geo_bucketers)"
   ]
  },
  {
   "cell_type": "code",
   "execution_count": 105,
   "metadata": {},
   "outputs": [
    {
     "data": {
      "text/plain": [
       "32439139"
      ]
     },
     "execution_count": 105,
     "metadata": {},
     "output_type": "execute_result"
    }
   ],
   "source": [
    "# Filter to 0 < tip amount < 50% of fare amount\n",
    "taxi_typed_geo_filt_test = taxi_typed_geo_test.filter(taxi_typed_geo_test.tip_amount > 0\n",
    "                                             ).filter(taxi_typed_geo_test.tip_amount < 0.5 * \n",
    "                                                      taxi_typed_geo_test.fare_amount)\n",
    "taxi_typed_geo_filt_test.count()"
   ]
  },
  {
   "cell_type": "code",
   "execution_count": 106,
   "metadata": {},
   "outputs": [
    {
     "name": "stdout",
     "output_type": "stream",
     "text": [
      "+-----+--------------------+\n",
      "|label|            features|\n",
      "+-----+--------------------+\n",
      "|  3.0|[1.0,24.2,5.4,24....|\n",
      "|  1.0|[2.0,4.5,0.8,24.0...|\n",
      "|  3.0|[1.0,13.7,3.3,24....|\n",
      "| 5.75|[1.0,27.5,8.6,24....|\n",
      "| 1.25|[1.0,3.7,0.5,24.0...|\n",
      "+-----+--------------------+\n",
      "only showing top 5 rows\n",
      "\n"
     ]
    }
   ],
   "source": [
    "# Prepare test data for model application\n",
    "taxi_xform_test = transData(taxi_typed_geo_filt_test, feature_cols, label_col)\n",
    "taxi_xform_test.show(5)"
   ]
  },
  {
   "cell_type": "code",
   "execution_count": 111,
   "metadata": {},
   "outputs": [
    {
     "name": "stdout",
     "output_type": "stream",
     "text": [
      "+-----+--------------------+------------------+\n",
      "|label|            features|        prediction|\n",
      "+-----+--------------------+------------------+\n",
      "|  3.0|[1.0,24.2,5.4,24....| 4.953960307414459|\n",
      "|  1.0|[2.0,4.5,0.8,24.0...|1.0837531542770331|\n",
      "|  3.0|[1.0,13.7,3.3,24....| 2.896944597990918|\n",
      "| 5.75|[1.0,27.5,8.6,24....|5.6231642947996585|\n",
      "| 1.25|[1.0,3.7,0.5,24.0...|0.9275047780316135|\n",
      "+-----+--------------------+------------------+\n",
      "only showing top 5 rows\n",
      "\n"
     ]
    }
   ],
   "source": [
    "# Apply model to generate predictions\n",
    "taxi_pred = taxi_model2.transform(taxi_xform_test)\n",
    "taxi_pred.show(5)"
   ]
  },
  {
   "cell_type": "code",
   "execution_count": 116,
   "metadata": {},
   "outputs": [
    {
     "data": {
      "text/plain": [
       "0.7797787666514014"
      ]
     },
     "execution_count": 116,
     "metadata": {},
     "output_type": "execute_result"
    }
   ],
   "source": [
    "# Evaluate performance\n",
    "evaluator = RegressionEvaluator(labelCol='label', predictionCol='prediction', metricName='r2')\n",
    "evaluator.evaluate(taxi_pred)"
   ]
  }
 ],
 "metadata": {
  "kernelspec": {
   "display_name": "Python 2",
   "language": "python",
   "name": "python2"
  },
  "language_info": {
   "codemirror_mode": {
    "name": "ipython",
    "version": 2
   },
   "file_extension": ".py",
   "mimetype": "text/x-python",
   "name": "python",
   "nbconvert_exporter": "python",
   "pygments_lexer": "ipython2",
   "version": "2.7.13"
  }
 },
 "nbformat": 4,
 "nbformat_minor": 2
}
